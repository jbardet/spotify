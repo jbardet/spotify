{
 "cells": [
  {
   "cell_type": "code",
   "execution_count": 20,
   "metadata": {},
   "outputs": [],
   "source": [
    "from datetime import date, datetime as dt, timedelta as td\n",
    "import numpy as np\n",
    "import pandas as pd\n",
    "\n",
    "import matplotlib as mpl\n",
    "import matplotlib.pyplot as plt\n",
    "import matplotlib.dates as mdates\n",
    "%matplotlib inline"
   ]
  },
  {
   "cell_type": "code",
   "execution_count": 26,
   "metadata": {},
   "outputs": [],
   "source": [
    "overview = pd.read_csv(\"../data/rescuetime_overview.csv\")\n",
    "# if exists remove old index columns\n",
    "overview.drop(['Unnamed: 0'], axis=1, inplace=True)\n",
    "# relabel date to timestamp\n",
    "computer_overview = overview[overview['device'] == \"computers\"]\n",
    "mobile_overview = overview[overview['device'] == \"mobile\"]"
   ]
  },
  {
   "cell_type": "code",
   "execution_count": 27,
   "metadata": {},
   "outputs": [],
   "source": [
    "computer_overview = overview[overview['device'] == \"computers\"]\n",
    "mobile_overview = overview[overview['device'] == \"mobile\"]"
   ]
  },
  {
   "cell_type": "code",
   "execution_count": 28,
   "metadata": {},
   "outputs": [
    {
     "data": {
      "text/plain": [
       "1446"
      ]
     },
     "execution_count": 28,
     "metadata": {},
     "output_type": "execute_result"
    }
   ],
   "source": [
    "len(computer_overview)"
   ]
  },
  {
   "cell_type": "code",
   "execution_count": 29,
   "metadata": {},
   "outputs": [
    {
     "data": {
      "text/plain": [
       "656"
      ]
     },
     "execution_count": 29,
     "metadata": {},
     "output_type": "execute_result"
    }
   ],
   "source": [
    "len(mobile_overview)"
   ]
  },
  {
   "cell_type": "code",
   "execution_count": 30,
   "metadata": {},
   "outputs": [
    {
     "data": {
      "text/html": [
       "<div>\n",
       "<style scoped>\n",
       "    .dataframe tbody tr th:only-of-type {\n",
       "        vertical-align: middle;\n",
       "    }\n",
       "\n",
       "    .dataframe tbody tr th {\n",
       "        vertical-align: top;\n",
       "    }\n",
       "\n",
       "    .dataframe thead th {\n",
       "        text-align: right;\n",
       "    }\n",
       "</style>\n",
       "<table border=\"1\" class=\"dataframe\">\n",
       "  <thead>\n",
       "    <tr style=\"text-align: right;\">\n",
       "      <th></th>\n",
       "      <th>date</th>\n",
       "      <th>time</th>\n",
       "      <th>category</th>\n",
       "      <th>device</th>\n",
       "    </tr>\n",
       "  </thead>\n",
       "  <tbody>\n",
       "    <tr>\n",
       "      <th>0</th>\n",
       "      <td>2023-10-11 07:00:00</td>\n",
       "      <td>667</td>\n",
       "      <td>Software Development</td>\n",
       "      <td>computers</td>\n",
       "    </tr>\n",
       "    <tr>\n",
       "      <th>10</th>\n",
       "      <td>2023-10-11 07:00:00</td>\n",
       "      <td>3</td>\n",
       "      <td>Business</td>\n",
       "      <td>computers</td>\n",
       "    </tr>\n",
       "    <tr>\n",
       "      <th>11</th>\n",
       "      <td>2023-10-11 07:00:00</td>\n",
       "      <td>3</td>\n",
       "      <td>Entertainment</td>\n",
       "      <td>computers</td>\n",
       "    </tr>\n",
       "    <tr>\n",
       "      <th>12</th>\n",
       "      <td>2023-10-11 07:00:00</td>\n",
       "      <td>75</td>\n",
       "      <td>Social Networking</td>\n",
       "      <td>computers</td>\n",
       "    </tr>\n",
       "    <tr>\n",
       "      <th>13</th>\n",
       "      <td>2023-10-11 07:00:00</td>\n",
       "      <td>104</td>\n",
       "      <td>Utilities</td>\n",
       "      <td>computers</td>\n",
       "    </tr>\n",
       "    <tr>\n",
       "      <th>...</th>\n",
       "      <td>...</td>\n",
       "      <td>...</td>\n",
       "      <td>...</td>\n",
       "      <td>...</td>\n",
       "    </tr>\n",
       "    <tr>\n",
       "      <th>2095</th>\n",
       "      <td>2023-10-26 07:00:00</td>\n",
       "      <td>771</td>\n",
       "      <td>Software Development</td>\n",
       "      <td>computers</td>\n",
       "    </tr>\n",
       "    <tr>\n",
       "      <th>2096</th>\n",
       "      <td>2023-10-26 07:00:00</td>\n",
       "      <td>360</td>\n",
       "      <td>Business</td>\n",
       "      <td>computers</td>\n",
       "    </tr>\n",
       "    <tr>\n",
       "      <th>2097</th>\n",
       "      <td>2023-10-26 07:00:00</td>\n",
       "      <td>224</td>\n",
       "      <td>Shopping</td>\n",
       "      <td>computers</td>\n",
       "    </tr>\n",
       "    <tr>\n",
       "      <th>2098</th>\n",
       "      <td>2023-10-26 07:00:00</td>\n",
       "      <td>158</td>\n",
       "      <td>Utilities</td>\n",
       "      <td>computers</td>\n",
       "    </tr>\n",
       "    <tr>\n",
       "      <th>2099</th>\n",
       "      <td>2023-10-26 07:00:00</td>\n",
       "      <td>65</td>\n",
       "      <td>Reference &amp; Learning</td>\n",
       "      <td>computers</td>\n",
       "    </tr>\n",
       "  </tbody>\n",
       "</table>\n",
       "<p>1446 rows × 4 columns</p>\n",
       "</div>"
      ],
      "text/plain": [
       "                     date  time              category     device\n",
       "0     2023-10-11 07:00:00   667  Software Development  computers\n",
       "10    2023-10-11 07:00:00     3              Business  computers\n",
       "11    2023-10-11 07:00:00     3         Entertainment  computers\n",
       "12    2023-10-11 07:00:00    75     Social Networking  computers\n",
       "13    2023-10-11 07:00:00   104             Utilities  computers\n",
       "...                   ...   ...                   ...        ...\n",
       "2095  2023-10-26 07:00:00   771  Software Development  computers\n",
       "2096  2023-10-26 07:00:00   360              Business  computers\n",
       "2097  2023-10-26 07:00:00   224              Shopping  computers\n",
       "2098  2023-10-26 07:00:00   158             Utilities  computers\n",
       "2099  2023-10-26 07:00:00    65  Reference & Learning  computers\n",
       "\n",
       "[1446 rows x 4 columns]"
      ]
     },
     "execution_count": 30,
     "metadata": {},
     "output_type": "execute_result"
    }
   ],
   "source": [
    "computer_overview"
   ]
  },
  {
   "cell_type": "code",
   "execution_count": null,
   "metadata": {},
   "outputs": [],
   "source": []
  }
 ],
 "metadata": {
  "kernelspec": {
   "display_name": "spotify",
   "language": "python",
   "name": "python3"
  },
  "language_info": {
   "codemirror_mode": {
    "name": "ipython",
    "version": 3
   },
   "file_extension": ".py",
   "mimetype": "text/x-python",
   "name": "python",
   "nbconvert_exporter": "python",
   "pygments_lexer": "ipython3",
   "version": "3.11.4"
  }
 },
 "nbformat": 4,
 "nbformat_minor": 2
}
