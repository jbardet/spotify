{
 "cells": [
  {
   "cell_type": "code",
   "execution_count": null,
   "metadata": {},
   "outputs": [],
   "source": [
    "import numpy as np\n",
    "import pandas as pd\n",
    "import matplotlib.pyplot as plt, matplotlib.font_manager as fm\n",
    "from datetime import datetime\n",
    "import seaborn\n",
    "%matplotlib inline"
   ]
  },
  {
   "cell_type": "code",
   "execution_count": 4,
   "metadata": {},
   "outputs": [
    {
     "data": {
      "text/html": [
       "<div>\n",
       "<style scoped>\n",
       "    .dataframe tbody tr th:only-of-type {\n",
       "        vertical-align: middle;\n",
       "    }\n",
       "\n",
       "    .dataframe tbody tr th {\n",
       "        vertical-align: top;\n",
       "    }\n",
       "\n",
       "    .dataframe thead th {\n",
       "        text-align: right;\n",
       "    }\n",
       "</style>\n",
       "<table border=\"1\" class=\"dataframe\">\n",
       "  <thead>\n",
       "    <tr style=\"text-align: right;\">\n",
       "      <th></th>\n",
       "      <th>date</th>\n",
       "      <th>activities</th>\n",
       "      <th>goals</th>\n",
       "      <th>summary</th>\n",
       "    </tr>\n",
       "  </thead>\n",
       "  <tbody>\n",
       "    <tr>\n",
       "      <th>0</th>\n",
       "      <td>2023-10-22</td>\n",
       "      <td>[]</td>\n",
       "      <td>{'activeMinutes': 30, 'caloriesOut': 2815, 'di...</td>\n",
       "      <td>{'activeScore': -1, 'activityCalories': 31, 'c...</td>\n",
       "    </tr>\n",
       "    <tr>\n",
       "      <th>1</th>\n",
       "      <td>2023-10-23</td>\n",
       "      <td>[]</td>\n",
       "      <td>{'activeMinutes': 30, 'caloriesOut': 2815, 'di...</td>\n",
       "      <td>{'activeScore': -1, 'activityCalories': 854, '...</td>\n",
       "    </tr>\n",
       "    <tr>\n",
       "      <th>2</th>\n",
       "      <td>2023-10-24</td>\n",
       "      <td>[{'activityId': 90013, 'activityParentId': 900...</td>\n",
       "      <td>{'activeMinutes': 30, 'caloriesOut': 2815, 'di...</td>\n",
       "      <td>{'activeScore': -1, 'activityCalories': 592, '...</td>\n",
       "    </tr>\n",
       "    <tr>\n",
       "      <th>3</th>\n",
       "      <td>2023-10-25</td>\n",
       "      <td>[]</td>\n",
       "      <td>{'activeMinutes': 30, 'caloriesOut': 2815, 'di...</td>\n",
       "      <td>{'activeScore': -1, 'activityCalories': 456, '...</td>\n",
       "    </tr>\n",
       "    <tr>\n",
       "      <th>4</th>\n",
       "      <td>2023-10-26</td>\n",
       "      <td>[]</td>\n",
       "      <td>{'activeMinutes': 30, 'caloriesOut': 2815, 'di...</td>\n",
       "      <td>{'activeScore': -1, 'activityCalories': 1292, ...</td>\n",
       "    </tr>\n",
       "    <tr>\n",
       "      <th>5</th>\n",
       "      <td>2023-10-27</td>\n",
       "      <td>[{'activityId': 90013, 'activityParentId': 900...</td>\n",
       "      <td>{'activeMinutes': 30, 'caloriesOut': 2815, 'di...</td>\n",
       "      <td>{'activeScore': -1, 'activityCalories': 2222, ...</td>\n",
       "    </tr>\n",
       "    <tr>\n",
       "      <th>6</th>\n",
       "      <td>2023-10-28</td>\n",
       "      <td>[{'activityId': 90013, 'activityParentId': 900...</td>\n",
       "      <td>{'activeMinutes': 30, 'caloriesOut': 2815, 'di...</td>\n",
       "      <td>{'activeScore': -1, 'activityCalories': 4146, ...</td>\n",
       "    </tr>\n",
       "    <tr>\n",
       "      <th>7</th>\n",
       "      <td>2023-10-29</td>\n",
       "      <td>[{'activityId': 90013, 'activityParentId': 900...</td>\n",
       "      <td>{'activeMinutes': 30, 'caloriesOut': 2815, 'di...</td>\n",
       "      <td>{'activeScore': -1, 'activityCalories': 2679, ...</td>\n",
       "    </tr>\n",
       "    <tr>\n",
       "      <th>8</th>\n",
       "      <td>2023-10-30</td>\n",
       "      <td>[]</td>\n",
       "      <td>{'activeMinutes': 30, 'caloriesOut': 2815, 'di...</td>\n",
       "      <td>{'activeScore': -1, 'activityCalories': 213, '...</td>\n",
       "    </tr>\n",
       "  </tbody>\n",
       "</table>\n",
       "</div>"
      ],
      "text/plain": [
       "         date                                         activities  \\\n",
       "0  2023-10-22                                                 []   \n",
       "1  2023-10-23                                                 []   \n",
       "2  2023-10-24  [{'activityId': 90013, 'activityParentId': 900...   \n",
       "3  2023-10-25                                                 []   \n",
       "4  2023-10-26                                                 []   \n",
       "5  2023-10-27  [{'activityId': 90013, 'activityParentId': 900...   \n",
       "6  2023-10-28  [{'activityId': 90013, 'activityParentId': 900...   \n",
       "7  2023-10-29  [{'activityId': 90013, 'activityParentId': 900...   \n",
       "8  2023-10-30                                                 []   \n",
       "\n",
       "                                               goals  \\\n",
       "0  {'activeMinutes': 30, 'caloriesOut': 2815, 'di...   \n",
       "1  {'activeMinutes': 30, 'caloriesOut': 2815, 'di...   \n",
       "2  {'activeMinutes': 30, 'caloriesOut': 2815, 'di...   \n",
       "3  {'activeMinutes': 30, 'caloriesOut': 2815, 'di...   \n",
       "4  {'activeMinutes': 30, 'caloriesOut': 2815, 'di...   \n",
       "5  {'activeMinutes': 30, 'caloriesOut': 2815, 'di...   \n",
       "6  {'activeMinutes': 30, 'caloriesOut': 2815, 'di...   \n",
       "7  {'activeMinutes': 30, 'caloriesOut': 2815, 'di...   \n",
       "8  {'activeMinutes': 30, 'caloriesOut': 2815, 'di...   \n",
       "\n",
       "                                             summary  \n",
       "0  {'activeScore': -1, 'activityCalories': 31, 'c...  \n",
       "1  {'activeScore': -1, 'activityCalories': 854, '...  \n",
       "2  {'activeScore': -1, 'activityCalories': 592, '...  \n",
       "3  {'activeScore': -1, 'activityCalories': 456, '...  \n",
       "4  {'activeScore': -1, 'activityCalories': 1292, ...  \n",
       "5  {'activeScore': -1, 'activityCalories': 2222, ...  \n",
       "6  {'activeScore': -1, 'activityCalories': 4146, ...  \n",
       "7  {'activeScore': -1, 'activityCalories': 2679, ...  \n",
       "8  {'activeScore': -1, 'activityCalories': 213, '...  "
      ]
     },
     "execution_count": 4,
     "metadata": {},
     "output_type": "execute_result"
    }
   ],
   "source": [
    "fitbit_activities = pd.read_csv('../data/fitbit_activities.csv', encoding='utf-8')\n",
    "fitbit_activities.drop(['Unnamed: 0'], axis=1, inplace=True)\n",
    "fitbit_activities"
   ]
  },
  {
   "cell_type": "code",
   "execution_count": 10,
   "metadata": {},
   "outputs": [
    {
     "data": {
      "text/plain": [
       "array([\"{'activeMinutes': 30, 'caloriesOut': 2815, 'distance': 5, 'steps': 10000}\"],\n",
       "      dtype=object)"
      ]
     },
     "execution_count": 10,
     "metadata": {},
     "output_type": "execute_result"
    }
   ],
   "source": [
    "# goals are always the same -> a bit useless\n",
    "fitbit_activities[fitbit_activities['date'] == '2023-10-24']['goals'].values"
   ]
  },
  {
   "cell_type": "code",
   "execution_count": 12,
   "metadata": {},
   "outputs": [
    {
     "data": {
      "text/plain": [
       "array([\"{'activeScore': -1, 'activityCalories': 592, 'caloriesBMR': 1698, 'caloriesOut': 2251, 'distances': [{'activity': 'total', 'distance': 1.41}, {'activity': 'tracker', 'distance': 1.41}, {'activity': 'loggedActivities', 'distance': 0}, {'activity': 'veryActive', 'distance': 0}, {'activity': 'moderatelyActive', 'distance': 0}, {'activity': 'lightlyActive', 'distance': 1.09}, {'activity': 'sedentaryActive', 'distance': 0.32}], 'fairlyActiveMinutes': 0, 'heartRateZones': [{'caloriesOut': 2158.20814, 'max': 105, 'min': 30, 'minutes': 1394, 'name': 'Out of Range'}, {'caloriesOut': 36.80976, 'max': 135, 'min': 105, 'minutes': 4, 'name': 'Fat Burn'}, {'caloriesOut': 0, 'max': 171, 'min': 135, 'minutes': 0, 'name': 'Cardio'}, {'caloriesOut': 0, 'max': 220, 'min': 171, 'minutes': 0, 'name': 'Peak'}], 'lightlyActiveMinutes': 146, 'marginalCalories': 304, 'restingHeartRate': 47, 'sedentaryMinutes': 745, 'steps': 3228, 'veryActiveMinutes': 0}\"],\n",
       "      dtype=object)"
      ]
     },
     "execution_count": 12,
     "metadata": {},
     "output_type": "execute_result"
    }
   ],
   "source": [
    "fitbit_activities[fitbit_activities['date'] == '2023-10-24']['summary'].values"
   ]
  },
  {
   "cell_type": "code",
   "execution_count": 13,
   "metadata": {},
   "outputs": [
    {
     "data": {
      "text/plain": [
       "array([\"[{'activityId': 90013, 'activityParentId': 90013, 'activityParentName': 'Walk', 'calories': 126, 'description': 'Walking less than 2 mph, strolling very slowly', 'duration': 1076000, 'hasActiveZoneMinutes': True, 'hasStartTime': True, 'isFavorite': False, 'lastModified': '2023-10-24T10:54:11.000Z', 'logId': 59429094142, 'name': 'Walk', 'startDate': '2023-10-24', 'startTime': '12:15', 'steps': 1459}]\"],\n",
       "      dtype=object)"
      ]
     },
     "execution_count": 13,
     "metadata": {},
     "output_type": "execute_result"
    }
   ],
   "source": [
    "fitbit_activities[fitbit_activities['date'] == '2023-10-24']['activities'].values"
   ]
  },
  {
   "cell_type": "code",
   "execution_count": null,
   "metadata": {},
   "outputs": [],
   "source": []
  }
 ],
 "metadata": {
  "kernelspec": {
   "display_name": "spotify",
   "language": "python",
   "name": "python3"
  },
  "language_info": {
   "codemirror_mode": {
    "name": "ipython",
    "version": 3
   },
   "file_extension": ".py",
   "mimetype": "text/x-python",
   "name": "python",
   "nbconvert_exporter": "python",
   "pygments_lexer": "ipython3",
   "version": "3.11.4"
  }
 },
 "nbformat": 4,
 "nbformat_minor": 2
}
