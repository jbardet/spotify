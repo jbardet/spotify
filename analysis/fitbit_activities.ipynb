{
 "cells": [
  {
   "cell_type": "code",
   "execution_count": 1,
   "metadata": {},
   "outputs": [],
   "source": [
    "import numpy as np\n",
    "import pandas as pd\n",
    "import matplotlib.pyplot as plt, matplotlib.font_manager as fm\n",
    "from datetime import datetime\n",
    "import seaborn\n",
    "%matplotlib inline"
   ]
  },
  {
   "cell_type": "code",
   "execution_count": 2,
   "metadata": {},
   "outputs": [
    {
     "data": {
      "text/html": [
       "<div>\n",
       "<style scoped>\n",
       "    .dataframe tbody tr th:only-of-type {\n",
       "        vertical-align: middle;\n",
       "    }\n",
       "\n",
       "    .dataframe tbody tr th {\n",
       "        vertical-align: top;\n",
       "    }\n",
       "\n",
       "    .dataframe thead th {\n",
       "        text-align: right;\n",
       "    }\n",
       "</style>\n",
       "<table border=\"1\" class=\"dataframe\">\n",
       "  <thead>\n",
       "    <tr style=\"text-align: right;\">\n",
       "      <th></th>\n",
       "      <th>date</th>\n",
       "      <th>activities</th>\n",
       "      <th>summary</th>\n",
       "    </tr>\n",
       "  </thead>\n",
       "  <tbody>\n",
       "    <tr>\n",
       "      <th>0</th>\n",
       "      <td>2023-10-22</td>\n",
       "      <td>[]</td>\n",
       "      <td>{'activeScore': -1, 'activityCalories': 31, 'c...</td>\n",
       "    </tr>\n",
       "    <tr>\n",
       "      <th>1</th>\n",
       "      <td>2023-10-23</td>\n",
       "      <td>[]</td>\n",
       "      <td>{'activeScore': -1, 'activityCalories': 854, '...</td>\n",
       "    </tr>\n",
       "    <tr>\n",
       "      <th>2</th>\n",
       "      <td>2023-10-24</td>\n",
       "      <td>[{'activityId': 90013, 'activityParentId': 900...</td>\n",
       "      <td>{'activeScore': -1, 'activityCalories': 592, '...</td>\n",
       "    </tr>\n",
       "    <tr>\n",
       "      <th>3</th>\n",
       "      <td>2023-10-25</td>\n",
       "      <td>[]</td>\n",
       "      <td>{'activeScore': -1, 'activityCalories': 456, '...</td>\n",
       "    </tr>\n",
       "    <tr>\n",
       "      <th>4</th>\n",
       "      <td>2023-10-26</td>\n",
       "      <td>[]</td>\n",
       "      <td>{'activeScore': -1, 'activityCalories': 1292, ...</td>\n",
       "    </tr>\n",
       "    <tr>\n",
       "      <th>5</th>\n",
       "      <td>2023-10-27</td>\n",
       "      <td>[{'activityId': 90013, 'activityParentId': 900...</td>\n",
       "      <td>{'activeScore': -1, 'activityCalories': 2222, ...</td>\n",
       "    </tr>\n",
       "    <tr>\n",
       "      <th>6</th>\n",
       "      <td>2023-10-28</td>\n",
       "      <td>[{'activityId': 90013, 'activityParentId': 900...</td>\n",
       "      <td>{'activeScore': -1, 'activityCalories': 4146, ...</td>\n",
       "    </tr>\n",
       "    <tr>\n",
       "      <th>7</th>\n",
       "      <td>2023-10-29</td>\n",
       "      <td>[{'activityId': 90013, 'activityParentId': 900...</td>\n",
       "      <td>{'activeScore': -1, 'activityCalories': 2679, ...</td>\n",
       "    </tr>\n",
       "    <tr>\n",
       "      <th>8</th>\n",
       "      <td>2023-10-30</td>\n",
       "      <td>[]</td>\n",
       "      <td>{'activeScore': -1, 'activityCalories': 335, '...</td>\n",
       "    </tr>\n",
       "    <tr>\n",
       "      <th>9</th>\n",
       "      <td>2023-10-30</td>\n",
       "      <td>[]</td>\n",
       "      <td>{'activeScore': -1, 'activityCalories': 377, '...</td>\n",
       "    </tr>\n",
       "    <tr>\n",
       "      <th>10</th>\n",
       "      <td>2023-10-31</td>\n",
       "      <td>[]</td>\n",
       "      <td>{'activeScore': -1, 'activityCalories': 922, '...</td>\n",
       "    </tr>\n",
       "    <tr>\n",
       "      <th>11</th>\n",
       "      <td>2023-11-01</td>\n",
       "      <td>[]</td>\n",
       "      <td>{'activeScore': -1, 'activityCalories': 298, '...</td>\n",
       "    </tr>\n",
       "  </tbody>\n",
       "</table>\n",
       "</div>"
      ],
      "text/plain": [
       "          date                                         activities  \\\n",
       "0   2023-10-22                                                 []   \n",
       "1   2023-10-23                                                 []   \n",
       "2   2023-10-24  [{'activityId': 90013, 'activityParentId': 900...   \n",
       "3   2023-10-25                                                 []   \n",
       "4   2023-10-26                                                 []   \n",
       "5   2023-10-27  [{'activityId': 90013, 'activityParentId': 900...   \n",
       "6   2023-10-28  [{'activityId': 90013, 'activityParentId': 900...   \n",
       "7   2023-10-29  [{'activityId': 90013, 'activityParentId': 900...   \n",
       "8   2023-10-30                                                 []   \n",
       "9   2023-10-30                                                 []   \n",
       "10  2023-10-31                                                 []   \n",
       "11  2023-11-01                                                 []   \n",
       "\n",
       "                                              summary  \n",
       "0   {'activeScore': -1, 'activityCalories': 31, 'c...  \n",
       "1   {'activeScore': -1, 'activityCalories': 854, '...  \n",
       "2   {'activeScore': -1, 'activityCalories': 592, '...  \n",
       "3   {'activeScore': -1, 'activityCalories': 456, '...  \n",
       "4   {'activeScore': -1, 'activityCalories': 1292, ...  \n",
       "5   {'activeScore': -1, 'activityCalories': 2222, ...  \n",
       "6   {'activeScore': -1, 'activityCalories': 4146, ...  \n",
       "7   {'activeScore': -1, 'activityCalories': 2679, ...  \n",
       "8   {'activeScore': -1, 'activityCalories': 335, '...  \n",
       "9   {'activeScore': -1, 'activityCalories': 377, '...  \n",
       "10  {'activeScore': -1, 'activityCalories': 922, '...  \n",
       "11  {'activeScore': -1, 'activityCalories': 298, '...  "
      ]
     },
     "execution_count": 2,
     "metadata": {},
     "output_type": "execute_result"
    }
   ],
   "source": [
    "fitbit_activities = pd.read_csv('../data/fitbit_activities.csv', encoding='utf-8')\n",
    "fitbit_activities.drop(['Unnamed: 0'], axis=1, inplace=True)\n",
    "fitbit_activities"
   ]
  },
  {
   "cell_type": "code",
   "execution_count": 5,
   "metadata": {},
   "outputs": [
    {
     "name": "stdout",
     "output_type": "stream",
     "text": [
      "[\"[{'activityId': 90013, 'activityParentId': 90013, 'activityParentName': 'Walk', 'calories': 126, 'description': 'Walking less than 2 mph, strolling very slowly', 'duration': 1076000, 'hasActiveZoneMinutes': True, 'hasStartTime': True, 'isFavorite': False, 'lastModified': '2023-10-24T10:54:11.000Z', 'logId': 59429094142, 'name': 'Walk', 'startDate': '2023-10-24', 'startTime': '12:15', 'steps': 1459}]\"]\n",
      "[\"[{'activityId': 90013, 'activityParentId': 90013, 'activityParentName': 'Walk', 'calories': 234, 'description': 'Walking less than 2 mph, strolling very slowly', 'duration': 1839000, 'hasActiveZoneMinutes': True, 'hasStartTime': True, 'isFavorite': False, 'lastModified': '2023-10-26T23:25:31.000Z', 'logId': 59488571695, 'name': 'Walk', 'startDate': '2023-10-27', 'startTime': '01:07', 'steps': 2147}, {'activityId': 90013, 'activityParentId': 90013, 'activityParentName': 'Walk', 'calories': 87, 'description': 'Walking less than 2 mph, strolling very slowly', 'duration': 1024000, 'hasActiveZoneMinutes': True, 'hasStartTime': True, 'isFavorite': False, 'lastModified': '2023-10-27T13:08:49.000Z', 'logId': 59497436596, 'name': 'Walk', 'startDate': '2023-10-27', 'startTime': '14:53', 'steps': 835}, {'activityId': 90013, 'activityParentId': 90013, 'activityParentName': 'Walk', 'calories': 134, 'description': 'Walking less than 2 mph, strolling very slowly', 'duration': 1280000, 'hasActiveZoneMinutes': True, 'hasStartTime': True, 'isFavorite': False, 'lastModified': '2023-10-27T19:24:48.000Z', 'logId': 59503694153, 'name': 'Walk', 'startDate': '2023-10-27', 'startTime': '20:03', 'steps': 1600}]\"]\n",
      "[\"[{'activityId': 90013, 'activityParentId': 90013, 'activityParentName': 'Walk', 'calories': 146, 'description': 'Walking less than 2 mph, strolling very slowly', 'duration': 1331000, 'hasActiveZoneMinutes': True, 'hasStartTime': True, 'isFavorite': False, 'lastModified': '2023-10-27T23:14:10.000Z', 'logId': 59506521313, 'name': 'Walk', 'startDate': '2023-10-28', 'startTime': '01:40', 'steps': 1154}, {'activityId': 90013, 'activityParentId': 90013, 'activityParentName': 'Walk', 'calories': 231, 'description': 'Walking less than 2 mph, strolling very slowly', 'duration': 1587000, 'hasActiveZoneMinutes': True, 'hasStartTime': True, 'isFavorite': False, 'lastModified': '2023-10-28T00:02:00.000Z', 'logId': 59507295443, 'name': 'Walk', 'startDate': '2023-10-28', 'startTime': '02:26', 'steps': 2546}, {'activityId': 3001, 'activityParentId': 3001, 'activityParentName': 'Aerobic Workout', 'calories': 214, 'description': '', 'duration': 1228000, 'hasActiveZoneMinutes': True, 'hasStartTime': True, 'isFavorite': False, 'lastModified': '2023-10-28T00:35:39.000Z', 'logId': 59507243062, 'name': 'Aerobic Workout', 'startDate': '2023-10-28', 'startTime': '03:04', 'steps': 2332}, {'activityId': 3001, 'activityParentId': 3001, 'activityParentName': 'Aerobic Workout', 'calories': 250, 'description': '', 'duration': 1485000, 'hasActiveZoneMinutes': True, 'hasStartTime': True, 'isFavorite': False, 'lastModified': '2023-10-28T01:45:19.000Z', 'logId': 59508387332, 'name': 'Aerobic Workout', 'startDate': '2023-10-28', 'startTime': '03:48', 'steps': 3094}, {'activityId': 20047, 'activityParentId': 20047, 'activityParentName': 'Elliptical', 'calories': 352, 'description': '', 'duration': 1997000, 'hasActiveZoneMinutes': True, 'hasStartTime': True, 'isFavorite': False, 'lastModified': '2023-10-28T08:29:09.000Z', 'logId': 59511554971, 'name': 'Elliptical', 'startDate': '2023-10-28', 'startTime': '04:28', 'steps': 3375}, {'activityId': 90013, 'activityParentId': 90013, 'activityParentName': 'Walk', 'calories': 104, 'description': 'Walking less than 2 mph, strolling very slowly', 'duration': 1178000, 'hasActiveZoneMinutes': True, 'hasStartTime': True, 'isFavorite': False, 'lastModified': '2023-10-28T12:23:07.000Z', 'logId': 59514099461, 'name': 'Walk', 'startDate': '2023-10-28', 'startTime': '14:50', 'steps': 1309}, {'activityId': 90013, 'activityParentId': 90013, 'activityParentName': 'Walk', 'calories': 88, 'description': 'Walking less than 2 mph, strolling very slowly', 'duration': 972000, 'hasActiveZoneMinutes': True, 'hasStartTime': True, 'isFavorite': False, 'lastModified': '2023-10-28T13:01:27.000Z', 'logId': 59514612614, 'name': 'Walk', 'startDate': '2023-10-28', 'startTime': '15:31', 'steps': 933}, {'activityId': 90013, 'activityParentId': 90013, 'activityParentName': 'Walk', 'calories': 242, 'description': 'Walking less than 2 mph, strolling very slowly', 'duration': 2662000, 'hasActiveZoneMinutes': True, 'hasStartTime': True, 'isFavorite': False, 'lastModified': '2023-10-28T14:28:07.000Z', 'logId': 59516155876, 'name': 'Walk', 'startDate': '2023-10-28', 'startTime': '16:24', 'steps': 3080}, {'activityId': 90013, 'activityParentId': 90013, 'activityParentName': 'Walk', 'calories': 108, 'description': 'Walking less than 2 mph, strolling very slowly', 'duration': 921000, 'hasActiveZoneMinutes': True, 'hasStartTime': True, 'isFavorite': False, 'lastModified': '2023-10-28T15:02:15.000Z', 'logId': 59516882616, 'name': 'Walk', 'startDate': '2023-10-28', 'startTime': '17:30', 'steps': 1345}, {'activityId': 90013, 'activityParentId': 90013, 'activityParentName': 'Walk', 'calories': 141, 'description': 'Walking less than 2 mph, strolling very slowly', 'duration': 1434000, 'hasActiveZoneMinutes': True, 'hasStartTime': True, 'isFavorite': False, 'lastModified': '2023-10-28T17:41:13.000Z', 'logId': 59519114060, 'name': 'Walk', 'startDate': '2023-10-28', 'startTime': '19:23', 'steps': 1853}]\"]\n",
      "[\"[{'activityId': 90013, 'activityParentId': 90013, 'activityParentName': 'Walk', 'calories': 127, 'description': 'Walking less than 2 mph, strolling very slowly', 'duration': 1229000, 'hasActiveZoneMinutes': True, 'hasStartTime': True, 'isFavorite': False, 'lastModified': '2023-10-28T23:21:44.000Z', 'logId': 59523730312, 'name': 'Walk', 'startDate': '2023-10-29', 'startTime': '01:06', 'steps': 1635}, {'activityId': 90013, 'activityParentId': 90013, 'activityParentName': 'Walk', 'calories': 173, 'description': 'Walking less than 2 mph, strolling very slowly', 'duration': 1587000, 'hasActiveZoneMinutes': True, 'hasStartTime': True, 'isFavorite': False, 'lastModified': '2023-10-29T02:40:59.000Z', 'logId': 59525860530, 'name': 'Walk', 'startDate': '2023-10-29', 'startTime': '04:07', 'steps': 1988}, {'activityId': 90013, 'activityParentId': 90013, 'activityParentName': 'Walk', 'calories': 148, 'description': 'Walking less than 2 mph, strolling very slowly', 'duration': 1177000, 'hasActiveZoneMinutes': True, 'hasStartTime': True, 'isFavorite': False, 'lastModified': '2023-10-29T12:09:56.000Z', 'logId': 59530146241, 'name': 'Walk', 'startDate': '2023-10-29', 'startTime': '13:44', 'steps': 1868}]\"]\n"
     ]
    }
   ],
   "source": [
    "# goals are always the same -> a bit useless\n",
    "print(fitbit_activities[fitbit_activities['date'] == '2023-10-24']['activities'].values)\n",
    "print(fitbit_activities[fitbit_activities['date'] == '2023-10-27']['activities'].values)\n",
    "print(fitbit_activities[fitbit_activities['date'] == '2023-10-28']['activities'].values)\n",
    "print(fitbit_activities[fitbit_activities['date'] == '2023-10-29']['activities'].values)\n",
    "# -> list of activities has : 'activityId', 'activityParentId', 'activityParentName',\n",
    "# 'calories', 'description', 'duration', 'hasActiveZoneMinutes', 'hasStartTime',\n",
    "# 'isFavorite', 'lastModified', 'logId', 'name', 'startDate', 'startTime', 'steps'"
   ]
  },
  {
   "cell_type": "code",
   "execution_count": 19,
   "metadata": {},
   "outputs": [
    {
     "data": {
      "text/plain": [
       "{'activityId': 90013,\n",
       " 'activityParentId': 90013,\n",
       " 'activityParentName': 'Walk',\n",
       " 'calories': 126,\n",
       " 'description': 'Walking less than 2 mph, strolling very slowly',\n",
       " 'duration': 1076000,\n",
       " 'hasActiveZoneMinutes': True,\n",
       " 'hasStartTime': True,\n",
       " 'isFavorite': False,\n",
       " 'lastModified': '2023-10-24T10:54:11.000Z',\n",
       " 'logId': 59429094142,\n",
       " 'name': 'Walk',\n",
       " 'startDate': '2023-10-24',\n",
       " 'startTime': '12:15',\n",
       " 'steps': 1459}"
      ]
     },
     "execution_count": 19,
     "metadata": {},
     "output_type": "execute_result"
    }
   ],
   "source": [
    "eval(fitbit_activities[fitbit_activities['date'] == '2023-10-24']['activities'].values[0])[0]"
   ]
  },
  {
   "cell_type": "code",
   "execution_count": 18,
   "metadata": {},
   "outputs": [
    {
     "data": {
      "text/plain": [
       "dict_keys(['activeScore', 'activityCalories', 'caloriesBMR', 'caloriesOut', 'distances', 'fairlyActiveMinutes', 'heartRateZones', 'lightlyActiveMinutes', 'marginalCalories', 'restingHeartRate', 'sedentaryMinutes', 'steps', 'veryActiveMinutes'])"
      ]
     },
     "execution_count": 18,
     "metadata": {},
     "output_type": "execute_result"
    }
   ],
   "source": [
    "eval(fitbit_activities[fitbit_activities['date'] == '2023-10-24']['summary'].values[0]).keys()"
   ]
  },
  {
   "cell_type": "code",
   "execution_count": null,
   "metadata": {},
   "outputs": [],
   "source": []
  }
 ],
 "metadata": {
  "kernelspec": {
   "display_name": "spotify",
   "language": "python",
   "name": "python3"
  },
  "language_info": {
   "codemirror_mode": {
    "name": "ipython",
    "version": 3
   },
   "file_extension": ".py",
   "mimetype": "text/x-python",
   "name": "python",
   "nbconvert_exporter": "python",
   "pygments_lexer": "ipython3",
   "version": "3.11.4"
  }
 },
 "nbformat": 4,
 "nbformat_minor": 2
}
