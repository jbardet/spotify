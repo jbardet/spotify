{
 "cells": [
  {
   "cell_type": "code",
   "execution_count": 3,
   "metadata": {},
   "outputs": [],
   "source": [
    "import numpy as np\n",
    "import pandas as pd\n",
    "import matplotlib.pyplot as plt, matplotlib.font_manager as fm\n",
    "from datetime import datetime\n",
    "import seaborn\n",
    "%matplotlib inline"
   ]
  },
  {
   "cell_type": "code",
   "execution_count": 4,
   "metadata": {},
   "outputs": [
    {
     "data": {
      "text/html": [
       "<div>\n",
       "<style scoped>\n",
       "    .dataframe tbody tr th:only-of-type {\n",
       "        vertical-align: middle;\n",
       "    }\n",
       "\n",
       "    .dataframe tbody tr th {\n",
       "        vertical-align: top;\n",
       "    }\n",
       "\n",
       "    .dataframe thead th {\n",
       "        text-align: right;\n",
       "    }\n",
       "</style>\n",
       "<table border=\"1\" class=\"dataframe\">\n",
       "  <thead>\n",
       "    <tr style=\"text-align: right;\">\n",
       "      <th></th>\n",
       "      <th>date</th>\n",
       "      <th>fatBurnActiveZoneMinutes</th>\n",
       "      <th>cardioActiveZoneMinutes</th>\n",
       "      <th>activeZoneMinutes</th>\n",
       "    </tr>\n",
       "  </thead>\n",
       "  <tbody>\n",
       "    <tr>\n",
       "      <th>0</th>\n",
       "      <td>2023-10-23</td>\n",
       "      <td>15</td>\n",
       "      <td>2.0</td>\n",
       "      <td>17</td>\n",
       "    </tr>\n",
       "    <tr>\n",
       "      <th>1</th>\n",
       "      <td>2023-10-24</td>\n",
       "      <td>2</td>\n",
       "      <td>NaN</td>\n",
       "      <td>2</td>\n",
       "    </tr>\n",
       "    <tr>\n",
       "      <th>2</th>\n",
       "      <td>2023-10-26</td>\n",
       "      <td>3</td>\n",
       "      <td>NaN</td>\n",
       "      <td>3</td>\n",
       "    </tr>\n",
       "    <tr>\n",
       "      <th>3</th>\n",
       "      <td>2023-10-27</td>\n",
       "      <td>8</td>\n",
       "      <td>NaN</td>\n",
       "      <td>8</td>\n",
       "    </tr>\n",
       "    <tr>\n",
       "      <th>4</th>\n",
       "      <td>2023-10-28</td>\n",
       "      <td>168</td>\n",
       "      <td>34.0</td>\n",
       "      <td>202</td>\n",
       "    </tr>\n",
       "    <tr>\n",
       "      <th>5</th>\n",
       "      <td>2023-10-29</td>\n",
       "      <td>42</td>\n",
       "      <td>2.0</td>\n",
       "      <td>44</td>\n",
       "    </tr>\n",
       "    <tr>\n",
       "      <th>6</th>\n",
       "      <td>2023-10-23</td>\n",
       "      <td>15</td>\n",
       "      <td>2.0</td>\n",
       "      <td>17</td>\n",
       "    </tr>\n",
       "    <tr>\n",
       "      <th>7</th>\n",
       "      <td>2023-10-24</td>\n",
       "      <td>2</td>\n",
       "      <td>NaN</td>\n",
       "      <td>2</td>\n",
       "    </tr>\n",
       "    <tr>\n",
       "      <th>8</th>\n",
       "      <td>2023-10-26</td>\n",
       "      <td>3</td>\n",
       "      <td>NaN</td>\n",
       "      <td>3</td>\n",
       "    </tr>\n",
       "    <tr>\n",
       "      <th>9</th>\n",
       "      <td>2023-10-27</td>\n",
       "      <td>8</td>\n",
       "      <td>NaN</td>\n",
       "      <td>8</td>\n",
       "    </tr>\n",
       "    <tr>\n",
       "      <th>10</th>\n",
       "      <td>2023-10-28</td>\n",
       "      <td>168</td>\n",
       "      <td>34.0</td>\n",
       "      <td>202</td>\n",
       "    </tr>\n",
       "    <tr>\n",
       "      <th>11</th>\n",
       "      <td>2023-10-29</td>\n",
       "      <td>42</td>\n",
       "      <td>2.0</td>\n",
       "      <td>44</td>\n",
       "    </tr>\n",
       "    <tr>\n",
       "      <th>12</th>\n",
       "      <td>2023-10-31</td>\n",
       "      <td>12</td>\n",
       "      <td>20.0</td>\n",
       "      <td>32</td>\n",
       "    </tr>\n",
       "  </tbody>\n",
       "</table>\n",
       "</div>"
      ],
      "text/plain": [
       "          date  fatBurnActiveZoneMinutes  cardioActiveZoneMinutes  \\\n",
       "0   2023-10-23                        15                      2.0   \n",
       "1   2023-10-24                         2                      NaN   \n",
       "2   2023-10-26                         3                      NaN   \n",
       "3   2023-10-27                         8                      NaN   \n",
       "4   2023-10-28                       168                     34.0   \n",
       "5   2023-10-29                        42                      2.0   \n",
       "6   2023-10-23                        15                      2.0   \n",
       "7   2023-10-24                         2                      NaN   \n",
       "8   2023-10-26                         3                      NaN   \n",
       "9   2023-10-27                         8                      NaN   \n",
       "10  2023-10-28                       168                     34.0   \n",
       "11  2023-10-29                        42                      2.0   \n",
       "12  2023-10-31                        12                     20.0   \n",
       "\n",
       "    activeZoneMinutes  \n",
       "0                  17  \n",
       "1                   2  \n",
       "2                   3  \n",
       "3                   8  \n",
       "4                 202  \n",
       "5                  44  \n",
       "6                  17  \n",
       "7                   2  \n",
       "8                   3  \n",
       "9                   8  \n",
       "10                202  \n",
       "11                 44  \n",
       "12                 32  "
      ]
     },
     "execution_count": 4,
     "metadata": {},
     "output_type": "execute_result"
    }
   ],
   "source": [
    "fitbit_azm = pd.read_csv('../data/fitbit_azm.csv', encoding='utf-8')\n",
    "fitbit_azm.drop(['Unnamed: 0'], axis=1, inplace=True)\n",
    "fitbit_azm"
   ]
  },
  {
   "cell_type": "code",
   "execution_count": 8,
   "metadata": {},
   "outputs": [
    {
     "data": {
      "text/plain": [
       "array([\"{'fatBurnActiveZoneMinutes': 15, 'cardioActiveZoneMinutes': 2, 'activeZoneMinutes': 17}\"],\n",
       "      dtype=object)"
      ]
     },
     "execution_count": 8,
     "metadata": {},
     "output_type": "execute_result"
    }
   ],
   "source": [
    "# change values to multiple columns\n",
    "fitbit_azm[fitbit_azm['date'] == \"2023-10-23\"]['value'].values"
   ]
  },
  {
   "cell_type": "code",
   "execution_count": 9,
   "metadata": {},
   "outputs": [
    {
     "name": "stdout",
     "output_type": "stream",
     "text": [
      "[\"{'fatBurnActiveZoneMinutes': 15, 'cardioActiveZoneMinutes': 2, 'activeZoneMinutes': 17}\"]\n",
      "[\"{'fatBurnActiveZoneMinutes': 2, 'activeZoneMinutes': 2}\"]\n",
      "[\"{'fatBurnActiveZoneMinutes': 3, 'activeZoneMinutes': 3}\"]\n",
      "[\"{'fatBurnActiveZoneMinutes': 8, 'activeZoneMinutes': 8}\"]\n",
      "[\"{'fatBurnActiveZoneMinutes': 168, 'cardioActiveZoneMinutes': 34, 'activeZoneMinutes': 202}\"]\n",
      "[\"{'fatBurnActiveZoneMinutes': 42, 'cardioActiveZoneMinutes': 2, 'activeZoneMinutes': 44}\"]\n"
     ]
    }
   ],
   "source": [
    "print(fitbit_azm[fitbit_azm['date'] == \"2023-10-23\"]['value'].values)\n",
    "print(fitbit_azm[fitbit_azm['date'] == \"2023-10-24\"]['value'].values)\n",
    "print(fitbit_azm[fitbit_azm['date'] == \"2023-10-26\"]['value'].values)\n",
    "print(fitbit_azm[fitbit_azm['date'] == \"2023-10-27\"]['value'].values)\n",
    "print(fitbit_azm[fitbit_azm['date'] == \"2023-10-28\"]['value'].values)\n",
    "print(fitbit_azm[fitbit_azm['date'] == \"2023-10-29\"]['value'].values)"
   ]
  },
  {
   "cell_type": "code",
   "execution_count": null,
   "metadata": {},
   "outputs": [],
   "source": []
  }
 ],
 "metadata": {
  "kernelspec": {
   "display_name": "spotify",
   "language": "python",
   "name": "python3"
  },
  "language_info": {
   "codemirror_mode": {
    "name": "ipython",
    "version": 3
   },
   "file_extension": ".py",
   "mimetype": "text/x-python",
   "name": "python",
   "nbconvert_exporter": "python",
   "pygments_lexer": "ipython3",
   "version": "3.11.4"
  }
 },
 "nbformat": 4,
 "nbformat_minor": 2
}
